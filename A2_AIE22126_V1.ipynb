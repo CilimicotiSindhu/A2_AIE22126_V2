{
  "cells": [
    {
      "cell_type": "markdown",
      "source": [
        "**Q1.Write a function to calculate the Euclidean distance and Manhattan distance between two vectors. The vectors dimension is variable. Please don’t use any distance calculation functions available in Python.**"
      ],
      "metadata": {
        "id": "94iH83pDGgHj"
      }
    },
    {
      "cell_type": "code",
      "source": [
        "#Start by defining a function\n",
        "def euclidean_distance(vector1, vector2):\n",
        "    assert len(vector1) == len(vector2), \"Vectors must have the same dimension\"\n",
        "    sum_squared_diff = sum((v1 - v2) ** 2 for v1, v2 in zip(vector1, vector2))\n",
        "    return sum_squared_diff\n",
        "\n",
        "\n",
        "def manhattan_distance(vector1, vector2):\n",
        "    assert len(vector1) == len(vector2), \"Vectors must have the same dimension\"\n",
        "    sum_absolute_diff = sum((v1 - v2) if v1 >= v2 else (v2 - v1) for v1, v2 in zip(vector1, vector2))\n",
        "    return sum_absolute_diff\n",
        "\n",
        "vector_a = [float(x) for x in input(\"Enter vector A (comma-separated values): \").split(',')]\n",
        "vector_b = [float(x) for x in input(\"Enter vector B (comma-separated values): \").split(',')]\n",
        "\n",
        "# Calculating distances\n",
        "euclidean_result = euclidean_distance(vector_a, vector_b)\n",
        "manhattan_result = manhattan_distance(vector_a, vector_b)\n",
        "\n",
        "# Displaying results\n",
        "print(f\"Euclidean Distance: {euclidean_result}\")\n",
        "print(f\"Manhattan Distance: {manhattan_result}\")"
      ],
      "metadata": {
        "id": "al2xy1BTG0oa",
        "outputId": "fa933ddb-f0fe-45a1-f6b0-61fd896ab828",
        "colab": {
          "base_uri": "https://localhost:8080/"
        }
      },
      "execution_count": 1,
      "outputs": [
        {
          "output_type": "stream",
          "name": "stdout",
          "text": [
            "Enter vector A (comma-separated values): 1,2\n",
            "Enter vector B (comma-separated values): 3,4\n",
            "Euclidean Distance: 8.0\n",
            "Manhattan Distance: 4.0\n"
          ]
        }
      ]
    },
    {
      "cell_type": "markdown",
      "source": [
        "**Q2.Write a function to implement k-NN classifier. k is a variable and based on that the count of neighbors should be selected. **"
      ],
      "metadata": {
        "id": "8HXmuLktHfmz"
      }
    },
    {
      "cell_type": "code",
      "source": [
        "from collections import Counter\n",
        "\n",
        "def euclidean_distance(vector1, vector2):\n",
        "    return sum((v1 - v2) ** 2 for v1, v2 in zip(vector1, vector2)) ** 0.5\n",
        "\n",
        "def k_nearest_neighbors(training_data, test_instance, k=3):\n",
        "    distances = [(euclidean_distance(test_instance, training_instance[0]), training_instance[1]) for training_instance in training_data]\n",
        "    sorted_distances = sorted(distances, key=lambda x: x[0])\n",
        "    k_nearest_labels = [label for _, label in sorted_distances[:k]]\n",
        "    most_common_label = Counter(k_nearest_labels).most_common(1)[0][0]\n",
        "    return most_common_label\n",
        "\n",
        "# User input for training data\n",
        "training_data = []\n",
        "num_train_instances = int(input(\"Enter the number of training instances: \"))\n",
        "\n",
        "for _ in range(num_train_instances):\n",
        "    features = [float(x) for x in input(\"Enter features (comma-separated values): \").split(',')]\n",
        "    label = input(\"Enter the label for this instance: \")\n",
        "    training_data.append((features, label))\n",
        "\n",
        "# User input for test instance\n",
        "test_instance = [float(x) for x in input(\"Enter test instance features (comma-separated values): \").split(',')]\n",
        "\n",
        "# User input for k\n",
        "k_value = int(input(\"Enter the value of k: \"))\n",
        "\n",
        "# Perform k-NN classification\n",
        "predicted_label = k_nearest_neighbors(training_data, test_instance, k=k_value)\n",
        "\n",
        "# Print the result\n",
        "print(f\"The predicted label for the test instance is: {predicted_label}\")"
      ],
      "metadata": {
        "id": "l3yCCwUUHj4d",
        "outputId": "f81eeb83-c8b8-4749-a0a0-d5d52af5158a",
        "colab": {
          "base_uri": "https://localhost:8080/"
        }
      },
      "execution_count": 3,
      "outputs": [
        {
          "output_type": "stream",
          "name": "stdout",
          "text": [
            "Enter the number of training instances: 3\n",
            "Enter features (comma-separated values): 1.0,2.0\n",
            "Enter the label for this instance: A\n",
            "Enter features (comma-separated values): 3.0,4.0\n",
            "Enter the label for this instance: B\n",
            "Enter features (comma-separated values): 1.5,2.5\n",
            "Enter the label for this instance: C\n",
            "Enter test instance features (comma-separated values): 6.8,9.0\n",
            "Enter the value of k: 2\n",
            "The predicted label for the test instance is: B\n"
          ]
        }
      ]
    },
    {
      "cell_type": "markdown",
      "source": [
        "**Q3.Write a function to convert categorical variables to numeric using label encoding. Don’t use any existing functionalities.**"
      ],
      "metadata": {
        "id": "5qRSQy6rIals"
      }
    },
    {
      "cell_type": "code",
      "source": [
        "def get_unique_labels(data):\n",
        "    return list(set(data))\n",
        "\n",
        "def label_encoding(data, labels):\n",
        "    label_mapping = {label: index for index, label in enumerate(labels)}\n",
        "    encoded_data = [label_mapping[value] for value in data]\n",
        "    return encoded_data\n",
        "\n",
        "def categorical_to_numeric(data):\n",
        "    unique_labels = get_unique_labels(data)\n",
        "    numeric_data = label_encoding(data, unique_labels)\n",
        "    return numeric_data\n",
        "\n",
        "# User input for categorical data\n",
        "categorical_data = input(\"Enter categorical data (comma-separated values): \").split(',')\n",
        "\n",
        "# Convert categorical variables to numeric using label encoding\n",
        "numeric_data = categorical_to_numeric(categorical_data)\n",
        "\n",
        "# Print the result\n",
        "print(f\"Original Categorical Data: {categorical_data}\")\n",
        "print(f\"Numeric Data: {numeric_data}\")"
      ],
      "metadata": {
        "id": "Zcv1xiPUIf0c",
        "outputId": "26a684bd-0957-4cae-b4c0-737fdc60740b",
        "colab": {
          "base_uri": "https://localhost:8080/"
        }
      },
      "execution_count": 4,
      "outputs": [
        {
          "output_type": "stream",
          "name": "stdout",
          "text": [
            "Enter categorical data (comma-separated values): 55,66\n",
            "Original Categorical Data: ['55', '66']\n",
            "Numeric Data: [0, 1]\n"
          ]
        }
      ]
    },
    {
      "cell_type": "markdown",
      "source": [
        "**Q4.Write a function to convert categorical variables to numeric using One-Hotencoding. Don’t use any existing functionalities.**"
      ],
      "metadata": {
        "id": "OrSppBJmIvx8"
      }
    },
    {
      "cell_type": "code",
      "source": [
        "def get_unique_labels(data):\n",
        "    return list(set(data))\n",
        "\n",
        "\n",
        "def one_hot_encoding(data, unique_labels):\n",
        "    one_hot_matrix = [[1 if value == label else 0 for label in unique_labels] for value in data]\n",
        "    return one_hot_matrix\n",
        "\n",
        "\n",
        "def categorical_to_numeric_one_hot(data):\n",
        "    unique_labels = get_unique_labels(data)\n",
        "    one_hot_matrix = one_hot_encoding(data, unique_labels)\n",
        "    return one_hot_matrix\n",
        "\n",
        "categorical_data = input(\"Enter categorical data (comma-separated values): \").split(',')\n",
        "\n",
        "one_hot_matrix = categorical_to_numeric_one_hot(categorical_data)\n",
        "\n",
        "print(f\"Original Categorical Data: {categorical_data}\")\n",
        "print(f\"One-Hot Encoded Matrix: {one_hot_matrix}\")"
      ],
      "metadata": {
        "id": "ZtfW2IS-I4LM",
        "outputId": "22a81d86-18b4-4eaa-c0e3-923bb06720f6",
        "colab": {
          "base_uri": "https://localhost:8080/"
        }
      },
      "execution_count": 5,
      "outputs": [
        {
          "output_type": "stream",
          "name": "stdout",
          "text": [
            "Enter categorical data (comma-separated values): 89,900\n",
            "Original Categorical Data: ['89', '900']\n",
            "One-Hot Encoded Matrix: [[1, 0], [0, 1]]\n"
          ]
        }
      ]
    }
  ],
  "metadata": {
    "colab": {
      "name": "Welcome To Colaboratory",
      "toc_visible": true,
      "provenance": []
    },
    "kernelspec": {
      "display_name": "Python 3",
      "name": "python3"
    }
  },
  "nbformat": 4,
  "nbformat_minor": 0
}